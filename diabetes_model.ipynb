{
  "cells": [
    {
      "cell_type": "code",
      "execution_count": 1,
      "id": "7a2e2631",
      "metadata": {
        "_cell_guid": "b1076dfc-b9ad-4769-8c92-a6c4dae69d19",
        "_uuid": "8f2839f25d086af736a60e9eeb907d3b93b6e0e5",
        "execution": {
          "iopub.execute_input": "2023-11-15T16:43:29.006638Z",
          "iopub.status.busy": "2023-11-15T16:43:29.005964Z",
          "iopub.status.idle": "2023-11-15T16:43:32.316311Z",
          "shell.execute_reply": "2023-11-15T16:43:32.314462Z"
        },
        "papermill": {
          "duration": 3.323468,
          "end_time": "2023-11-15T16:43:32.319600",
          "exception": false,
          "start_time": "2023-11-15T16:43:28.996132",
          "status": "completed"
        },
        "tags": [],
        "id": "7a2e2631"
      },
      "outputs": [],
      "source": [
        "import numpy as np\n",
        "import pandas as pd\n",
        "import os\n",
        "import matplotlib.pyplot as plt\n",
        "import seaborn as sb\n",
        "import plotly.express as px\n",
        "from sklearn.utils import resample\n",
        "from imblearn.over_sampling import SMOTE\n",
        "from sklearn.decomposition import PCA\n",
        "from sklearn.model_selection import train_test_split\n",
        "from sklearn.naive_bayes import GaussianNB\n",
        "from sklearn.metrics import accuracy_score, classification_report, confusion_matrix, f1_score\n",
        "from sklearn.model_selection import StratifiedKFold\n",
        "from sklearn.model_selection import cross_validate\n",
        "from sklearn.model_selection import cross_val_score\n",
        "from sklearn.tree import DecisionTreeClassifier"
      ]
    },
    {
      "cell_type": "markdown",
      "source": [
        "### Using Colab (linked to Github):\n"
      ],
      "metadata": {
        "id": "cY25G_ZBA-Ir"
      },
      "id": "cY25G_ZBA-Ir"
    },
    {
      "cell_type": "code",
      "source": [
        "# Mount Google Drive.\n",
        "from google.colab import drive\n",
        "drive.mount(\"/content/drive\")"
      ],
      "metadata": {
        "colab": {
          "base_uri": "https://localhost:8080/"
        },
        "id": "aAJmrDCq-v0I",
        "outputId": "6bfe20ad-ad96-4b0f-84df-fa7460ebbc34"
      },
      "id": "aAJmrDCq-v0I",
      "execution_count": 3,
      "outputs": [
        {
          "output_type": "stream",
          "name": "stdout",
          "text": [
            "Mounted at /content/drive\n"
          ]
        }
      ]
    },
    {
      "cell_type": "code",
      "source": [
        "# ! pip install -q kaggle\n",
        "# from google.colab import files\n",
        "# files.upload()"
      ],
      "metadata": {
        "id": "miHyVFyD-ast"
      },
      "id": "miHyVFyD-ast",
      "execution_count": 4,
      "outputs": []
    },
    {
      "cell_type": "code",
      "source": [
        "# !rm -r /content/drive/MyDrive/kaggle\n",
        "# !mkdir /content/drive/MyDrive/kaggle\n",
        "# !mv ./kaggle.json /content/drive/MyDrive/kaggle/\n",
        "# !chmod 600 /content/drive/MyDrive/kaggle/kaggle.json"
      ],
      "metadata": {
        "id": "lQ4bYJkS_Rdc"
      },
      "id": "lQ4bYJkS_Rdc",
      "execution_count": 5,
      "outputs": []
    },
    {
      "cell_type": "code",
      "source": [
        "# print(\"Files:\")\n",
        "# for dirname, _, filenames in os.walk('.'):\n",
        "#     for filename in filenames:\n",
        "#         print(os.path.join(dirname, filename))"
      ],
      "metadata": {
        "id": "JHvuhrR4F32Z"
      },
      "id": "JHvuhrR4F32Z",
      "execution_count": 6,
      "outputs": []
    },
    {
      "cell_type": "code",
      "source": [
        "# API command of the dataset:\n",
        "#!kaggle datasets download -d alexteboul/diabetes-health-indicators-dataset"
      ],
      "metadata": {
        "id": "kp4D-TnmAyTD"
      },
      "id": "kp4D-TnmAyTD",
      "execution_count": 7,
      "outputs": []
    },
    {
      "cell_type": "code",
      "source": [
        "# open the zip file in read mode\n",
        "# !cp ./diabetes-health-indicators-dataset.zip /content/drive/MyDrive/csvs/diabetes-health-indicators-dataset.zip\n",
        "# !unzip -q /content/drive/MyDrive/csvs/diabetes-health-indicators-dataset.zip -d /content/drive/MyDrive/csvs\n",
        "# !rm /content/drive/MyDrive/csvs/diabetes-health-indicators-dataset.zip"
      ],
      "metadata": {
        "id": "x3DXndRqBdLY"
      },
      "id": "x3DXndRqBdLY",
      "execution_count": 8,
      "outputs": []
    },
    {
      "cell_type": "code",
      "source": [
        "# Use the desired dataset and remove the other 2:\n",
        "df = pd.read_csv('/content/drive/MyDrive/csvs/diabetes_012_health_indicators_BRFSS2015.csv')\n",
        "#!rm /content/drive/MyDrive/csvs/diabetes_binary_health_indicators_BRFSS2015.csv\n",
        "#!rm /content/drive/MyDrive/csvs/diabetes_binary_5050split_health_indicators_BRFSS2015.csv"
      ],
      "metadata": {
        "id": "PBk_7xB8LE5D"
      },
      "id": "PBk_7xB8LE5D",
      "execution_count": 9,
      "outputs": []
    },
    {
      "cell_type": "markdown",
      "source": [
        "### Using Kaggle (linked with Github):\n",
        "https://www.kaggle.com/discussions/general/74235"
      ],
      "metadata": {
        "id": "xECW6lUrK31b"
      },
      "id": "xECW6lUrK31b"
    },
    {
      "cell_type": "code",
      "execution_count": 10,
      "id": "4934fc31",
      "metadata": {
        "execution": {
          "iopub.execute_input": "2023-11-15T16:43:32.336383Z",
          "iopub.status.busy": "2023-11-15T16:43:32.335582Z",
          "iopub.status.idle": "2023-11-15T16:43:32.354373Z",
          "shell.execute_reply": "2023-11-15T16:43:32.352399Z"
        },
        "papermill": {
          "duration": 0.031568,
          "end_time": "2023-11-15T16:43:32.358240",
          "exception": false,
          "start_time": "2023-11-15T16:43:32.326672",
          "status": "completed"
        },
        "tags": [],
        "id": "4934fc31"
      },
      "outputs": [],
      "source": [
        "# print(\"Available datasets:\")\n",
        "# for dirname, _, filenames in os.walk('/kaggle/input'):\n",
        "#     for filename in filenames:\n",
        "#         print(os.path.join(dirname, filename))"
      ]
    },
    {
      "cell_type": "code",
      "execution_count": 11,
      "id": "5cb73bb0",
      "metadata": {
        "execution": {
          "iopub.execute_input": "2023-11-15T16:43:32.374636Z",
          "iopub.status.busy": "2023-11-15T16:43:32.373695Z",
          "iopub.status.idle": "2023-11-15T16:43:33.758133Z",
          "shell.execute_reply": "2023-11-15T16:43:33.756668Z"
        },
        "papermill": {
          "duration": 1.396548,
          "end_time": "2023-11-15T16:43:33.761751",
          "exception": false,
          "start_time": "2023-11-15T16:43:32.365203",
          "status": "completed"
        },
        "tags": [],
        "id": "5cb73bb0"
      },
      "outputs": [],
      "source": [
        "# df = pd.read_csv('/kaggle/input/diabetes-health-indicators-dataset/diabetes_012_health_indicators_BRFSS2015.csv')"
      ]
    },
    {
      "cell_type": "markdown",
      "id": "426db30f",
      "metadata": {
        "papermill": {
          "duration": 0.006467,
          "end_time": "2023-11-15T16:43:33.776764",
          "exception": false,
          "start_time": "2023-11-15T16:43:33.770297",
          "status": "completed"
        },
        "tags": [],
        "id": "426db30f"
      },
      "source": [
        "# Data understanding:\n",
        "Questions that one might ask based on this dataset:"
      ]
    },
    {
      "cell_type": "markdown",
      "id": "90fe50e2",
      "metadata": {
        "papermill": {
          "duration": 0.006522,
          "end_time": "2023-11-15T16:43:33.790519",
          "exception": false,
          "start_time": "2023-11-15T16:43:33.783997",
          "status": "completed"
        },
        "tags": [],
        "id": "90fe50e2"
      },
      "source": [
        "# Data preprocessing:"
      ]
    },
    {
      "cell_type": "code",
      "execution_count": 12,
      "id": "205ec0af",
      "metadata": {
        "execution": {
          "iopub.execute_input": "2023-11-15T16:43:33.807103Z",
          "iopub.status.busy": "2023-11-15T16:43:33.806607Z",
          "iopub.status.idle": "2023-11-15T16:43:34.226537Z",
          "shell.execute_reply": "2023-11-15T16:43:34.225100Z"
        },
        "papermill": {
          "duration": 0.431906,
          "end_time": "2023-11-15T16:43:34.230005",
          "exception": false,
          "start_time": "2023-11-15T16:43:33.798099",
          "status": "completed"
        },
        "tags": [],
        "id": "205ec0af",
        "outputId": "cd58f2be-a16e-4e50-815e-238e2b9645c0",
        "colab": {
          "base_uri": "https://localhost:8080/",
          "height": 350
        }
      },
      "outputs": [
        {
          "output_type": "execute_result",
          "data": {
            "text/plain": [
              "        Diabetes_012         HighBP       HighChol      CholCheck  \\\n",
              "count  253680.000000  253680.000000  253680.000000  253680.000000   \n",
              "mean        0.296921       0.429001       0.424121       0.962670   \n",
              "std         0.698160       0.494934       0.494210       0.189571   \n",
              "min         0.000000       0.000000       0.000000       0.000000   \n",
              "25%         0.000000       0.000000       0.000000       1.000000   \n",
              "50%         0.000000       0.000000       0.000000       1.000000   \n",
              "75%         0.000000       1.000000       1.000000       1.000000   \n",
              "max         2.000000       1.000000       1.000000       1.000000   \n",
              "\n",
              "                 BMI         Smoker         Stroke  HeartDiseaseorAttack  \\\n",
              "count  253680.000000  253680.000000  253680.000000         253680.000000   \n",
              "mean       28.382364       0.443169       0.040571              0.094186   \n",
              "std         6.608694       0.496761       0.197294              0.292087   \n",
              "min        12.000000       0.000000       0.000000              0.000000   \n",
              "25%        24.000000       0.000000       0.000000              0.000000   \n",
              "50%        27.000000       0.000000       0.000000              0.000000   \n",
              "75%        31.000000       1.000000       0.000000              0.000000   \n",
              "max        98.000000       1.000000       1.000000              1.000000   \n",
              "\n",
              "        PhysActivity         Fruits  ...  AnyHealthcare    NoDocbcCost  \\\n",
              "count  253680.000000  253680.000000  ...  253680.000000  253680.000000   \n",
              "mean        0.756544       0.634256  ...       0.951053       0.084177   \n",
              "std         0.429169       0.481639  ...       0.215759       0.277654   \n",
              "min         0.000000       0.000000  ...       0.000000       0.000000   \n",
              "25%         1.000000       0.000000  ...       1.000000       0.000000   \n",
              "50%         1.000000       1.000000  ...       1.000000       0.000000   \n",
              "75%         1.000000       1.000000  ...       1.000000       0.000000   \n",
              "max         1.000000       1.000000  ...       1.000000       1.000000   \n",
              "\n",
              "             GenHlth       MentHlth       PhysHlth       DiffWalk  \\\n",
              "count  253680.000000  253680.000000  253680.000000  253680.000000   \n",
              "mean        2.511392       3.184772       4.242081       0.168224   \n",
              "std         1.068477       7.412847       8.717951       0.374066   \n",
              "min         1.000000       0.000000       0.000000       0.000000   \n",
              "25%         2.000000       0.000000       0.000000       0.000000   \n",
              "50%         2.000000       0.000000       0.000000       0.000000   \n",
              "75%         3.000000       2.000000       3.000000       0.000000   \n",
              "max         5.000000      30.000000      30.000000       1.000000   \n",
              "\n",
              "                 Sex            Age      Education         Income  \n",
              "count  253680.000000  253680.000000  253680.000000  253680.000000  \n",
              "mean        0.440342       8.032119       5.050434       6.053875  \n",
              "std         0.496429       3.054220       0.985774       2.071148  \n",
              "min         0.000000       1.000000       1.000000       1.000000  \n",
              "25%         0.000000       6.000000       4.000000       5.000000  \n",
              "50%         0.000000       8.000000       5.000000       7.000000  \n",
              "75%         1.000000      10.000000       6.000000       8.000000  \n",
              "max         1.000000      13.000000       6.000000       8.000000  \n",
              "\n",
              "[8 rows x 22 columns]"
            ],
            "text/html": [
              "\n",
              "  <div id=\"df-c64d4899-f49d-42f5-b98b-ebbd84ad5a9f\" class=\"colab-df-container\">\n",
              "    <div>\n",
              "<style scoped>\n",
              "    .dataframe tbody tr th:only-of-type {\n",
              "        vertical-align: middle;\n",
              "    }\n",
              "\n",
              "    .dataframe tbody tr th {\n",
              "        vertical-align: top;\n",
              "    }\n",
              "\n",
              "    .dataframe thead th {\n",
              "        text-align: right;\n",
              "    }\n",
              "</style>\n",
              "<table border=\"1\" class=\"dataframe\">\n",
              "  <thead>\n",
              "    <tr style=\"text-align: right;\">\n",
              "      <th></th>\n",
              "      <th>Diabetes_012</th>\n",
              "      <th>HighBP</th>\n",
              "      <th>HighChol</th>\n",
              "      <th>CholCheck</th>\n",
              "      <th>BMI</th>\n",
              "      <th>Smoker</th>\n",
              "      <th>Stroke</th>\n",
              "      <th>HeartDiseaseorAttack</th>\n",
              "      <th>PhysActivity</th>\n",
              "      <th>Fruits</th>\n",
              "      <th>...</th>\n",
              "      <th>AnyHealthcare</th>\n",
              "      <th>NoDocbcCost</th>\n",
              "      <th>GenHlth</th>\n",
              "      <th>MentHlth</th>\n",
              "      <th>PhysHlth</th>\n",
              "      <th>DiffWalk</th>\n",
              "      <th>Sex</th>\n",
              "      <th>Age</th>\n",
              "      <th>Education</th>\n",
              "      <th>Income</th>\n",
              "    </tr>\n",
              "  </thead>\n",
              "  <tbody>\n",
              "    <tr>\n",
              "      <th>count</th>\n",
              "      <td>253680.000000</td>\n",
              "      <td>253680.000000</td>\n",
              "      <td>253680.000000</td>\n",
              "      <td>253680.000000</td>\n",
              "      <td>253680.000000</td>\n",
              "      <td>253680.000000</td>\n",
              "      <td>253680.000000</td>\n",
              "      <td>253680.000000</td>\n",
              "      <td>253680.000000</td>\n",
              "      <td>253680.000000</td>\n",
              "      <td>...</td>\n",
              "      <td>253680.000000</td>\n",
              "      <td>253680.000000</td>\n",
              "      <td>253680.000000</td>\n",
              "      <td>253680.000000</td>\n",
              "      <td>253680.000000</td>\n",
              "      <td>253680.000000</td>\n",
              "      <td>253680.000000</td>\n",
              "      <td>253680.000000</td>\n",
              "      <td>253680.000000</td>\n",
              "      <td>253680.000000</td>\n",
              "    </tr>\n",
              "    <tr>\n",
              "      <th>mean</th>\n",
              "      <td>0.296921</td>\n",
              "      <td>0.429001</td>\n",
              "      <td>0.424121</td>\n",
              "      <td>0.962670</td>\n",
              "      <td>28.382364</td>\n",
              "      <td>0.443169</td>\n",
              "      <td>0.040571</td>\n",
              "      <td>0.094186</td>\n",
              "      <td>0.756544</td>\n",
              "      <td>0.634256</td>\n",
              "      <td>...</td>\n",
              "      <td>0.951053</td>\n",
              "      <td>0.084177</td>\n",
              "      <td>2.511392</td>\n",
              "      <td>3.184772</td>\n",
              "      <td>4.242081</td>\n",
              "      <td>0.168224</td>\n",
              "      <td>0.440342</td>\n",
              "      <td>8.032119</td>\n",
              "      <td>5.050434</td>\n",
              "      <td>6.053875</td>\n",
              "    </tr>\n",
              "    <tr>\n",
              "      <th>std</th>\n",
              "      <td>0.698160</td>\n",
              "      <td>0.494934</td>\n",
              "      <td>0.494210</td>\n",
              "      <td>0.189571</td>\n",
              "      <td>6.608694</td>\n",
              "      <td>0.496761</td>\n",
              "      <td>0.197294</td>\n",
              "      <td>0.292087</td>\n",
              "      <td>0.429169</td>\n",
              "      <td>0.481639</td>\n",
              "      <td>...</td>\n",
              "      <td>0.215759</td>\n",
              "      <td>0.277654</td>\n",
              "      <td>1.068477</td>\n",
              "      <td>7.412847</td>\n",
              "      <td>8.717951</td>\n",
              "      <td>0.374066</td>\n",
              "      <td>0.496429</td>\n",
              "      <td>3.054220</td>\n",
              "      <td>0.985774</td>\n",
              "      <td>2.071148</td>\n",
              "    </tr>\n",
              "    <tr>\n",
              "      <th>min</th>\n",
              "      <td>0.000000</td>\n",
              "      <td>0.000000</td>\n",
              "      <td>0.000000</td>\n",
              "      <td>0.000000</td>\n",
              "      <td>12.000000</td>\n",
              "      <td>0.000000</td>\n",
              "      <td>0.000000</td>\n",
              "      <td>0.000000</td>\n",
              "      <td>0.000000</td>\n",
              "      <td>0.000000</td>\n",
              "      <td>...</td>\n",
              "      <td>0.000000</td>\n",
              "      <td>0.000000</td>\n",
              "      <td>1.000000</td>\n",
              "      <td>0.000000</td>\n",
              "      <td>0.000000</td>\n",
              "      <td>0.000000</td>\n",
              "      <td>0.000000</td>\n",
              "      <td>1.000000</td>\n",
              "      <td>1.000000</td>\n",
              "      <td>1.000000</td>\n",
              "    </tr>\n",
              "    <tr>\n",
              "      <th>25%</th>\n",
              "      <td>0.000000</td>\n",
              "      <td>0.000000</td>\n",
              "      <td>0.000000</td>\n",
              "      <td>1.000000</td>\n",
              "      <td>24.000000</td>\n",
              "      <td>0.000000</td>\n",
              "      <td>0.000000</td>\n",
              "      <td>0.000000</td>\n",
              "      <td>1.000000</td>\n",
              "      <td>0.000000</td>\n",
              "      <td>...</td>\n",
              "      <td>1.000000</td>\n",
              "      <td>0.000000</td>\n",
              "      <td>2.000000</td>\n",
              "      <td>0.000000</td>\n",
              "      <td>0.000000</td>\n",
              "      <td>0.000000</td>\n",
              "      <td>0.000000</td>\n",
              "      <td>6.000000</td>\n",
              "      <td>4.000000</td>\n",
              "      <td>5.000000</td>\n",
              "    </tr>\n",
              "    <tr>\n",
              "      <th>50%</th>\n",
              "      <td>0.000000</td>\n",
              "      <td>0.000000</td>\n",
              "      <td>0.000000</td>\n",
              "      <td>1.000000</td>\n",
              "      <td>27.000000</td>\n",
              "      <td>0.000000</td>\n",
              "      <td>0.000000</td>\n",
              "      <td>0.000000</td>\n",
              "      <td>1.000000</td>\n",
              "      <td>1.000000</td>\n",
              "      <td>...</td>\n",
              "      <td>1.000000</td>\n",
              "      <td>0.000000</td>\n",
              "      <td>2.000000</td>\n",
              "      <td>0.000000</td>\n",
              "      <td>0.000000</td>\n",
              "      <td>0.000000</td>\n",
              "      <td>0.000000</td>\n",
              "      <td>8.000000</td>\n",
              "      <td>5.000000</td>\n",
              "      <td>7.000000</td>\n",
              "    </tr>\n",
              "    <tr>\n",
              "      <th>75%</th>\n",
              "      <td>0.000000</td>\n",
              "      <td>1.000000</td>\n",
              "      <td>1.000000</td>\n",
              "      <td>1.000000</td>\n",
              "      <td>31.000000</td>\n",
              "      <td>1.000000</td>\n",
              "      <td>0.000000</td>\n",
              "      <td>0.000000</td>\n",
              "      <td>1.000000</td>\n",
              "      <td>1.000000</td>\n",
              "      <td>...</td>\n",
              "      <td>1.000000</td>\n",
              "      <td>0.000000</td>\n",
              "      <td>3.000000</td>\n",
              "      <td>2.000000</td>\n",
              "      <td>3.000000</td>\n",
              "      <td>0.000000</td>\n",
              "      <td>1.000000</td>\n",
              "      <td>10.000000</td>\n",
              "      <td>6.000000</td>\n",
              "      <td>8.000000</td>\n",
              "    </tr>\n",
              "    <tr>\n",
              "      <th>max</th>\n",
              "      <td>2.000000</td>\n",
              "      <td>1.000000</td>\n",
              "      <td>1.000000</td>\n",
              "      <td>1.000000</td>\n",
              "      <td>98.000000</td>\n",
              "      <td>1.000000</td>\n",
              "      <td>1.000000</td>\n",
              "      <td>1.000000</td>\n",
              "      <td>1.000000</td>\n",
              "      <td>1.000000</td>\n",
              "      <td>...</td>\n",
              "      <td>1.000000</td>\n",
              "      <td>1.000000</td>\n",
              "      <td>5.000000</td>\n",
              "      <td>30.000000</td>\n",
              "      <td>30.000000</td>\n",
              "      <td>1.000000</td>\n",
              "      <td>1.000000</td>\n",
              "      <td>13.000000</td>\n",
              "      <td>6.000000</td>\n",
              "      <td>8.000000</td>\n",
              "    </tr>\n",
              "  </tbody>\n",
              "</table>\n",
              "<p>8 rows × 22 columns</p>\n",
              "</div>\n",
              "    <div class=\"colab-df-buttons\">\n",
              "\n",
              "  <div class=\"colab-df-container\">\n",
              "    <button class=\"colab-df-convert\" onclick=\"convertToInteractive('df-c64d4899-f49d-42f5-b98b-ebbd84ad5a9f')\"\n",
              "            title=\"Convert this dataframe to an interactive table.\"\n",
              "            style=\"display:none;\">\n",
              "\n",
              "  <svg xmlns=\"http://www.w3.org/2000/svg\" height=\"24px\" viewBox=\"0 -960 960 960\">\n",
              "    <path d=\"M120-120v-720h720v720H120Zm60-500h600v-160H180v160Zm220 220h160v-160H400v160Zm0 220h160v-160H400v160ZM180-400h160v-160H180v160Zm440 0h160v-160H620v160ZM180-180h160v-160H180v160Zm440 0h160v-160H620v160Z\"/>\n",
              "  </svg>\n",
              "    </button>\n",
              "\n",
              "  <style>\n",
              "    .colab-df-container {\n",
              "      display:flex;\n",
              "      gap: 12px;\n",
              "    }\n",
              "\n",
              "    .colab-df-convert {\n",
              "      background-color: #E8F0FE;\n",
              "      border: none;\n",
              "      border-radius: 50%;\n",
              "      cursor: pointer;\n",
              "      display: none;\n",
              "      fill: #1967D2;\n",
              "      height: 32px;\n",
              "      padding: 0 0 0 0;\n",
              "      width: 32px;\n",
              "    }\n",
              "\n",
              "    .colab-df-convert:hover {\n",
              "      background-color: #E2EBFA;\n",
              "      box-shadow: 0px 1px 2px rgba(60, 64, 67, 0.3), 0px 1px 3px 1px rgba(60, 64, 67, 0.15);\n",
              "      fill: #174EA6;\n",
              "    }\n",
              "\n",
              "    .colab-df-buttons div {\n",
              "      margin-bottom: 4px;\n",
              "    }\n",
              "\n",
              "    [theme=dark] .colab-df-convert {\n",
              "      background-color: #3B4455;\n",
              "      fill: #D2E3FC;\n",
              "    }\n",
              "\n",
              "    [theme=dark] .colab-df-convert:hover {\n",
              "      background-color: #434B5C;\n",
              "      box-shadow: 0px 1px 3px 1px rgba(0, 0, 0, 0.15);\n",
              "      filter: drop-shadow(0px 1px 2px rgba(0, 0, 0, 0.3));\n",
              "      fill: #FFFFFF;\n",
              "    }\n",
              "  </style>\n",
              "\n",
              "    <script>\n",
              "      const buttonEl =\n",
              "        document.querySelector('#df-c64d4899-f49d-42f5-b98b-ebbd84ad5a9f button.colab-df-convert');\n",
              "      buttonEl.style.display =\n",
              "        google.colab.kernel.accessAllowed ? 'block' : 'none';\n",
              "\n",
              "      async function convertToInteractive(key) {\n",
              "        const element = document.querySelector('#df-c64d4899-f49d-42f5-b98b-ebbd84ad5a9f');\n",
              "        const dataTable =\n",
              "          await google.colab.kernel.invokeFunction('convertToInteractive',\n",
              "                                                    [key], {});\n",
              "        if (!dataTable) return;\n",
              "\n",
              "        const docLinkHtml = 'Like what you see? Visit the ' +\n",
              "          '<a target=\"_blank\" href=https://colab.research.google.com/notebooks/data_table.ipynb>data table notebook</a>'\n",
              "          + ' to learn more about interactive tables.';\n",
              "        element.innerHTML = '';\n",
              "        dataTable['output_type'] = 'display_data';\n",
              "        await google.colab.output.renderOutput(dataTable, element);\n",
              "        const docLink = document.createElement('div');\n",
              "        docLink.innerHTML = docLinkHtml;\n",
              "        element.appendChild(docLink);\n",
              "      }\n",
              "    </script>\n",
              "  </div>\n",
              "\n",
              "\n",
              "<div id=\"df-948e6cef-b9d3-4932-8f53-6943db5657ec\">\n",
              "  <button class=\"colab-df-quickchart\" onclick=\"quickchart('df-948e6cef-b9d3-4932-8f53-6943db5657ec')\"\n",
              "            title=\"Suggest charts\"\n",
              "            style=\"display:none;\">\n",
              "\n",
              "<svg xmlns=\"http://www.w3.org/2000/svg\" height=\"24px\"viewBox=\"0 0 24 24\"\n",
              "     width=\"24px\">\n",
              "    <g>\n",
              "        <path d=\"M19 3H5c-1.1 0-2 .9-2 2v14c0 1.1.9 2 2 2h14c1.1 0 2-.9 2-2V5c0-1.1-.9-2-2-2zM9 17H7v-7h2v7zm4 0h-2V7h2v10zm4 0h-2v-4h2v4z\"/>\n",
              "    </g>\n",
              "</svg>\n",
              "  </button>\n",
              "\n",
              "<style>\n",
              "  .colab-df-quickchart {\n",
              "      --bg-color: #E8F0FE;\n",
              "      --fill-color: #1967D2;\n",
              "      --hover-bg-color: #E2EBFA;\n",
              "      --hover-fill-color: #174EA6;\n",
              "      --disabled-fill-color: #AAA;\n",
              "      --disabled-bg-color: #DDD;\n",
              "  }\n",
              "\n",
              "  [theme=dark] .colab-df-quickchart {\n",
              "      --bg-color: #3B4455;\n",
              "      --fill-color: #D2E3FC;\n",
              "      --hover-bg-color: #434B5C;\n",
              "      --hover-fill-color: #FFFFFF;\n",
              "      --disabled-bg-color: #3B4455;\n",
              "      --disabled-fill-color: #666;\n",
              "  }\n",
              "\n",
              "  .colab-df-quickchart {\n",
              "    background-color: var(--bg-color);\n",
              "    border: none;\n",
              "    border-radius: 50%;\n",
              "    cursor: pointer;\n",
              "    display: none;\n",
              "    fill: var(--fill-color);\n",
              "    height: 32px;\n",
              "    padding: 0;\n",
              "    width: 32px;\n",
              "  }\n",
              "\n",
              "  .colab-df-quickchart:hover {\n",
              "    background-color: var(--hover-bg-color);\n",
              "    box-shadow: 0 1px 2px rgba(60, 64, 67, 0.3), 0 1px 3px 1px rgba(60, 64, 67, 0.15);\n",
              "    fill: var(--button-hover-fill-color);\n",
              "  }\n",
              "\n",
              "  .colab-df-quickchart-complete:disabled,\n",
              "  .colab-df-quickchart-complete:disabled:hover {\n",
              "    background-color: var(--disabled-bg-color);\n",
              "    fill: var(--disabled-fill-color);\n",
              "    box-shadow: none;\n",
              "  }\n",
              "\n",
              "  .colab-df-spinner {\n",
              "    border: 2px solid var(--fill-color);\n",
              "    border-color: transparent;\n",
              "    border-bottom-color: var(--fill-color);\n",
              "    animation:\n",
              "      spin 1s steps(1) infinite;\n",
              "  }\n",
              "\n",
              "  @keyframes spin {\n",
              "    0% {\n",
              "      border-color: transparent;\n",
              "      border-bottom-color: var(--fill-color);\n",
              "      border-left-color: var(--fill-color);\n",
              "    }\n",
              "    20% {\n",
              "      border-color: transparent;\n",
              "      border-left-color: var(--fill-color);\n",
              "      border-top-color: var(--fill-color);\n",
              "    }\n",
              "    30% {\n",
              "      border-color: transparent;\n",
              "      border-left-color: var(--fill-color);\n",
              "      border-top-color: var(--fill-color);\n",
              "      border-right-color: var(--fill-color);\n",
              "    }\n",
              "    40% {\n",
              "      border-color: transparent;\n",
              "      border-right-color: var(--fill-color);\n",
              "      border-top-color: var(--fill-color);\n",
              "    }\n",
              "    60% {\n",
              "      border-color: transparent;\n",
              "      border-right-color: var(--fill-color);\n",
              "    }\n",
              "    80% {\n",
              "      border-color: transparent;\n",
              "      border-right-color: var(--fill-color);\n",
              "      border-bottom-color: var(--fill-color);\n",
              "    }\n",
              "    90% {\n",
              "      border-color: transparent;\n",
              "      border-bottom-color: var(--fill-color);\n",
              "    }\n",
              "  }\n",
              "</style>\n",
              "\n",
              "  <script>\n",
              "    async function quickchart(key) {\n",
              "      const quickchartButtonEl =\n",
              "        document.querySelector('#' + key + ' button');\n",
              "      quickchartButtonEl.disabled = true;  // To prevent multiple clicks.\n",
              "      quickchartButtonEl.classList.add('colab-df-spinner');\n",
              "      try {\n",
              "        const charts = await google.colab.kernel.invokeFunction(\n",
              "            'suggestCharts', [key], {});\n",
              "      } catch (error) {\n",
              "        console.error('Error during call to suggestCharts:', error);\n",
              "      }\n",
              "      quickchartButtonEl.classList.remove('colab-df-spinner');\n",
              "      quickchartButtonEl.classList.add('colab-df-quickchart-complete');\n",
              "    }\n",
              "    (() => {\n",
              "      let quickchartButtonEl =\n",
              "        document.querySelector('#df-948e6cef-b9d3-4932-8f53-6943db5657ec button');\n",
              "      quickchartButtonEl.style.display =\n",
              "        google.colab.kernel.accessAllowed ? 'block' : 'none';\n",
              "    })();\n",
              "  </script>\n",
              "</div>\n",
              "    </div>\n",
              "  </div>\n"
            ]
          },
          "metadata": {},
          "execution_count": 12
        }
      ],
      "source": [
        "df.describe()"
      ]
    },
    {
      "cell_type": "markdown",
      "id": "54a880b5",
      "metadata": {
        "papermill": {
          "duration": 0.007483,
          "end_time": "2023-11-15T16:43:34.246480",
          "exception": false,
          "start_time": "2023-11-15T16:43:34.238997",
          "status": "completed"
        },
        "tags": [],
        "id": "54a880b5"
      },
      "source": [
        "## Data cleaning:"
      ]
    },
    {
      "cell_type": "markdown",
      "id": "afb559ff",
      "metadata": {
        "papermill": {
          "duration": 0.007153,
          "end_time": "2023-11-15T16:43:34.261207",
          "exception": false,
          "start_time": "2023-11-15T16:43:34.254054",
          "status": "completed"
        },
        "tags": [],
        "id": "afb559ff"
      },
      "source": [
        "### Dealing with impossible and missing values:"
      ]
    },
    {
      "cell_type": "markdown",
      "id": "9da38b14",
      "metadata": {
        "papermill": {
          "duration": 0.007558,
          "end_time": "2023-11-15T16:43:34.276896",
          "exception": false,
          "start_time": "2023-11-15T16:43:34.269338",
          "status": "completed"
        },
        "tags": [],
        "id": "9da38b14"
      },
      "source": [
        "Because the dataset is clean and complete (no missing values, no impossible values, no bad formatting), no further preprocessing of data is neccessary in this regards."
      ]
    },
    {
      "cell_type": "code",
      "execution_count": 13,
      "id": "999daf96",
      "metadata": {
        "execution": {
          "iopub.execute_input": "2023-11-15T16:43:34.296174Z",
          "iopub.status.busy": "2023-11-15T16:43:34.295460Z",
          "iopub.status.idle": "2023-11-15T16:43:34.321556Z",
          "shell.execute_reply": "2023-11-15T16:43:34.320149Z"
        },
        "papermill": {
          "duration": 0.040424,
          "end_time": "2023-11-15T16:43:34.325664",
          "exception": false,
          "start_time": "2023-11-15T16:43:34.285240",
          "status": "completed"
        },
        "tags": [],
        "id": "999daf96",
        "outputId": "8ac6d662-e4d9-4575-d6d5-82035a899a3f",
        "colab": {
          "base_uri": "https://localhost:8080/"
        }
      },
      "outputs": [
        {
          "output_type": "stream",
          "name": "stdout",
          "text": [
            "MISSING VALUES FOR EACH VARIABLE:\n",
            " Diabetes_012            0\n",
            "HighBP                  0\n",
            "HighChol                0\n",
            "CholCheck               0\n",
            "BMI                     0\n",
            "Smoker                  0\n",
            "Stroke                  0\n",
            "HeartDiseaseorAttack    0\n",
            "PhysActivity            0\n",
            "Fruits                  0\n",
            "Veggies                 0\n",
            "HvyAlcoholConsump       0\n",
            "AnyHealthcare           0\n",
            "NoDocbcCost             0\n",
            "GenHlth                 0\n",
            "MentHlth                0\n",
            "PhysHlth                0\n",
            "DiffWalk                0\n",
            "Sex                     0\n",
            "Age                     0\n",
            "Education               0\n",
            "Income                  0\n",
            "dtype: int64 \n",
            "\n",
            "SHAPE OF THE DATASET: (253680, 22)\n"
          ]
        }
      ],
      "source": [
        "print(\"MISSING VALUES FOR EACH VARIABLE:\\n\",df.isnull().sum(), \"\\n\")\n",
        "print(\"SHAPE OF THE DATASET:\", df.shape)"
      ]
    },
    {
      "cell_type": "markdown",
      "id": "bfc668c8",
      "metadata": {
        "papermill": {
          "duration": 0.007455,
          "end_time": "2023-11-15T16:43:34.364742",
          "exception": false,
          "start_time": "2023-11-15T16:43:34.357287",
          "status": "completed"
        },
        "tags": [],
        "id": "bfc668c8"
      },
      "source": [
        "#### NUMERICAL FEATURES:\n",
        "Out of the 22 columns of the dataset, only 5 (*BMI, MentHlth, PhysHlth, Age* and *Income*) are numerical features. In other words, they consist of actual numerical values."
      ]
    },
    {
      "cell_type": "code",
      "execution_count": 14,
      "id": "c9837d82",
      "metadata": {
        "execution": {
          "iopub.execute_input": "2023-11-15T16:43:34.382854Z",
          "iopub.status.busy": "2023-11-15T16:43:34.382274Z",
          "iopub.status.idle": "2023-11-15T16:43:36.741745Z",
          "shell.execute_reply": "2023-11-15T16:43:36.740576Z"
        },
        "papermill": {
          "duration": 2.372567,
          "end_time": "2023-11-15T16:43:36.745053",
          "exception": false,
          "start_time": "2023-11-15T16:43:34.372486",
          "status": "completed"
        },
        "tags": [],
        "id": "c9837d82",
        "outputId": "ab6a8bd5-50b6-43f8-cb89-aa263172ac87",
        "colab": {
          "base_uri": "https://localhost:8080/",
          "height": 675
        }
      },
      "outputs": [
        {
          "output_type": "display_data",
          "data": {
            "text/plain": [
              "<Figure size 2500x1000 with 5 Axes>"
            ],
            "image/png": "[encoded data removed]"
          },
          "metadata": {}
        }
      ],
      "source": [
        "df_numerical = df[['BMI','MentHlth','PhysHlth','Age','Income']]\n",
        "\n",
        "# Creation of subplots:\n",
        "fig, axes = plt.subplots(nrows=2, ncols=3, figsize=(25, 10))\n",
        "\n",
        "# Flatten the axes array to a 1D array\n",
        "axes = axes.flatten()#Converting the 2D array of axes objects into a 1D array.\n",
        "                     #Useful when you want iterating over the subplots,\n",
        "                     #regardless of whether there is one row or multiple rows.\n",
        "\n",
        "# Remove empty subplot in row 2, column 3 because it is empty\n",
        "fig.delaxes(axes[-1])\n",
        "\n",
        "# Specifications for each subplot\n",
        "# Subplot for BMI:\n",
        "axes[0].hist(df_numerical['BMI'], bins=100, color='skyblue')\n",
        "axes[0].set_title('Histogram of BMI')\n",
        "axes[0].grid(True)\n",
        "\n",
        "# Subplot for MentHlth:\n",
        "axes[1].hist(df_numerical['MentHlth'], bins=30, color='skyblue')\n",
        "axes[1].set_title('Histogram of Mental Health')\n",
        "axes[1].grid(True)\n",
        "\n",
        "# Subplot for PhysHlth:\n",
        "axes[2].hist(df_numerical['PhysHlth'], bins=30, color='skyblue')\n",
        "axes[2].set_title('Histogram of Physical Health')\n",
        "axes[2].grid(True)\n",
        "\n",
        "# Subplot for Age:\n",
        "axes[3].hist(df_numerical['Age'], bins=np.arange(0.5, 14, 1), color='skyblue')\n",
        "axes[3].set_title('Histogram of Age')\n",
        "axes[3].set_xticks(np.arange(1, 14, 1))  # Set custom xticks\n",
        "axes[3].grid(True)\n",
        "\n",
        "# Subplot for Income:\n",
        "axes[4].hist(df_numerical['Income'], bins=np.arange(0.5, 9, 1), color='skyblue')\n",
        "axes[4].set_title('Histogram of Income')\n",
        "axes[4].grid(True)\n",
        "\n",
        "# Adjust layout\n",
        "# plt.tight_layout()\n",
        "plt.suptitle(\"Distributions of numerical variables\", fontsize=20)\n",
        "plt.show()"
      ]
    },
    {
      "cell_type": "markdown",
      "id": "d9cdf1b5",
      "metadata": {
        "papermill": {
          "duration": 0.010436,
          "end_time": "2023-11-15T16:43:36.764850",
          "exception": false,
          "start_time": "2023-11-15T16:43:36.754414",
          "status": "completed"
        },
        "tags": [],
        "id": "d9cdf1b5"
      },
      "source": [
        "#### CATEGORICAL FEATURES:\n",
        "The rest of the variables in the dataset are categorical, having only a set of possible values. Within them, we find those which have only 2 possible values (0 or 1), *BI-CATEGORICAL VARIABLES*; and those which have more than 2 possible values, *MULTI-CATEGORICAL VARIABLES*."
      ]
    },
    {
      "cell_type": "code",
      "execution_count": 15,
      "id": "dbddb80e",
      "metadata": {
        "execution": {
          "iopub.execute_input": "2023-11-15T16:43:36.786325Z",
          "iopub.status.busy": "2023-11-15T16:43:36.785259Z",
          "iopub.status.idle": "2023-11-15T16:43:39.812075Z",
          "shell.execute_reply": "2023-11-15T16:43:39.810312Z"
        },
        "papermill": {
          "duration": 3.042601,
          "end_time": "2023-11-15T16:43:39.816905",
          "exception": false,
          "start_time": "2023-11-15T16:43:36.774304",
          "status": "completed"
        },
        "tags": [],
        "id": "dbddb80e",
        "outputId": "00da9c65-1545-44c8-ea65-925276cd3baa",
        "colab": {
          "base_uri": "https://localhost:8080/",
          "height": 984
        }
      },
      "outputs": [
        {
          "output_type": "display_data",
          "data": {
            "text/plain": [
              "<Figure size 2500x1500 with 14 Axes>"
            ],
            "image/png": "[encoded data removed]"
          },
          "metadata": {}
        }
      ],
      "source": [
        "# BI-CATEGORICAL VARIABLES:\n",
        "df_biCategorical = df[['HighBP','HighChol','CholCheck','Smoker','Stroke','HeartDiseaseorAttack','PhysActivity','Fruits','Veggies','HvyAlcoholConsump','AnyHealthcare','NoDocbcCost','DiffWalk','Sex']]\n",
        "\n",
        "# Creation of subplots:\n",
        "fig, axes = plt.subplots(nrows=4, ncols=4, figsize=(25, 15)) #'axes' is an array with two elements, 2D.\n",
        "                                                            # Each 'axes' object represents one subplot.\n",
        "\n",
        "# Flatten the axes array to a 1D array\n",
        "axes = axes.flatten()#Converting the 2D array of axes objects into a 1D array.\n",
        "                     #Useful when you want iterating over the subplots,\n",
        "                     #regardless of whether there is one row or multiple rows.\n",
        "\n",
        "# Remove empty subplot in row 2, column 3 because it is empty\n",
        "fig.delaxes(axes[-2])\n",
        "fig.delaxes(axes[-1])\n",
        "\n",
        "for i, feature in enumerate(df_biCategorical.columns):\n",
        "    ax = axes[i]\n",
        "    df_biCategorical[feature].value_counts().sort_index().plot(kind='bar', color='skyblue', ax=ax)\n",
        "    ax.set_title(f'Histogram of {feature}')\n",
        "    ax.set_xlabel('')\n",
        "    # Rotate x-axis labels\n",
        "    ax.set_xticklabels(ax.get_xticklabels(), rotation=0)\n",
        "    ax.set_yticks(np.arange(0, 300000, 50000))\n",
        "    ax.grid(True)\n",
        "\n",
        "# Adjust layout\n",
        "plt.suptitle(\"Distributions of bi-categorical variables\", fontsize=20)\n",
        "#plt.tight_layout()\n",
        "plt.show()"
      ]
    },
    {
      "cell_type": "code",
      "execution_count": 16,
      "id": "2b60f632",
      "metadata": {
        "execution": {
          "iopub.execute_input": "2023-11-15T16:43:39.844896Z",
          "iopub.status.busy": "2023-11-15T16:43:39.844351Z",
          "iopub.status.idle": "2023-11-15T16:43:40.801632Z",
          "shell.execute_reply": "2023-11-15T16:43:40.800273Z"
        },
        "papermill": {
          "duration": 0.974261,
          "end_time": "2023-11-15T16:43:40.804562",
          "exception": false,
          "start_time": "2023-11-15T16:43:39.830301",
          "status": "completed"
        },
        "tags": [],
        "id": "2b60f632",
        "outputId": "7de7b7ef-b274-4c7f-bee8-f15f6fba273b",
        "colab": {
          "base_uri": "https://localhost:8080/",
          "height": 485
        }
      },
      "outputs": [
        {
          "output_type": "display_data",
          "data": {
            "text/plain": [
              "<Figure size 2500x700 with 3 Axes>"
            ],
            "image/png": "[encoded data removed]"
          },
          "metadata": {}
        }
      ],
      "source": [
        "#MULTI-CATEGORICAL VARIABLES:\n",
        "df_multiCategorical = df[['Diabetes_012','GenHlth','Education']]\n",
        "\n",
        "# Creation of subplots:\n",
        "fig, axes = plt.subplots(nrows=1, ncols=3, figsize=(25, 7)) #'axes' is an array with two elements, 2D.\n",
        "                                                            # Each 'axes' object represents one subplot.\n",
        "\n",
        "for i, feature in enumerate(df_multiCategorical.columns):\n",
        "    ax = axes[i]\n",
        "    df_multiCategorical[feature].value_counts().sort_index().plot(kind='bar', color='skyblue', ax=ax)\n",
        "    ax.set_title(f'Histogram of {feature}')\n",
        "    ax.set_xlabel('')\n",
        "    # Rotate x-axis labels\n",
        "    ax.set_xticklabels(ax.get_xticklabels(), rotation=0)\n",
        "    ax.grid(True)\n",
        "\n",
        "# Adjust layout\n",
        "#plt.tight_layout()\n",
        "plt.suptitle(\"Distributions of multi-categorical variables\", fontsize=20)\n",
        "plt.show()"
      ]
    },
    {
      "cell_type": "markdown",
      "source": [
        "Feature \"Diabetes_012\" will be considered as a target class. In this scenario, an imbalance can be observed. In order to tackle this, a data reduction through sampling must be applied."
      ],
      "metadata": {
        "id": "-RFrbtk4Xy7j"
      },
      "id": "-RFrbtk4Xy7j"
    },
    {
      "cell_type": "markdown",
      "id": "7f10ce3f",
      "metadata": {
        "papermill": {
          "duration": 0.012116,
          "end_time": "2023-11-15T16:43:40.830099",
          "exception": false,
          "start_time": "2023-11-15T16:43:40.817983",
          "status": "completed"
        },
        "tags": [],
        "id": "7f10ce3f"
      },
      "source": [
        "### Outliers:\n",
        "Feature \"BMI\" was studied in more depth to analyse the existence of outliers. As shown in the BoxPlot diagram, many values lie above the last quartile. Because"
      ]
    },
    {
      "cell_type": "code",
      "execution_count": 18,
      "id": "b20ded7a",
      "metadata": {
        "execution": {
          "iopub.execute_input": "2023-11-15T16:43:40.913165Z",
          "iopub.status.busy": "2023-11-15T16:43:40.912690Z",
          "iopub.status.idle": "2023-11-15T16:43:40.926766Z",
          "shell.execute_reply": "2023-11-15T16:43:40.925477Z"
        },
        "papermill": {
          "duration": 0.031151,
          "end_time": "2023-11-15T16:43:40.929388",
          "exception": false,
          "start_time": "2023-11-15T16:43:40.898237",
          "status": "completed"
        },
        "tags": [],
        "id": "b20ded7a",
        "outputId": "e4f4c552-5b55-4d05-8a6a-7802e39ca13c",
        "colab": {
          "base_uri": "https://localhost:8080/"
        }
      },
      "outputs": [
        {
          "output_type": "stream",
          "name": "stdout",
          "text": [
            "0.32 % of the total data are outliers regarding the feature 'BMI'.\n"
          ]
        }
      ],
      "source": [
        "num_of_outliers = df_numerical['BMI'][df_numerical['BMI']>60].count()\n",
        "total_data = df.shape[0]\n",
        "percentage_of_outliers = (num_of_outliers/total_data) * 100\n",
        "print(round(percentage_of_outliers, 2),\"% of the total data are outliers regarding the feature 'BMI'.\")"
      ]
    },
    {
      "cell_type": "code",
      "source": [
        "type(df.loc[:,'Diabetes_012'].values.to_string)\n",
        "#lA ultima figura:\n",
        "# Hay que pasar los valores num de daibetes_012, a una string. (ahora están en array)\n",
        "# a una string).\n",
        "# Tener esos valore en una nueva columna anadida. Así cuando todo acabe, solo\n",
        "# hay q eliminarlo."
      ],
      "metadata": {
        "id": "TCVbU_Ppy4Xg",
        "outputId": "793bc477-e403-43f7-bc4c-0b6f4a712206",
        "colab": {
          "base_uri": "https://localhost:8080/"
        }
      },
      "id": "TCVbU_Ppy4Xg",
      "execution_count": 36,
      "outputs": [
        {
          "output_type": "execute_result",
          "data": {
            "text/plain": [
              "numpy.ndarray"
            ]
          },
          "metadata": {},
          "execution_count": 36
        }
      ]
    },
    {
      "cell_type": "code",
      "source": [
        "# Box plots of features with suspected outliers:\n",
        "fig, axes = plt.subplots(nrows=1, ncols=4, figsize=(20, 5))\n",
        "\n",
        "# BMI:\n",
        "plt.subplot(1,4,1)\n",
        "sb.boxplot(df_numerical['BMI'],\n",
        "           showmeans = True,\n",
        "           meanprops={\"marker\":\"o\",\n",
        "                      \"markerfacecolor\":\"white\",\n",
        "                       \"markeredgecolor\":\"black\",\n",
        "                      \"markersize\":\"5\"}\n",
        "                      )\n",
        "\n",
        "plt.grid(color = \"grey\", linewidth = \"0.3\", linestyle = \"-\")\n",
        "plt.title(\"Distribution of feature 'BMI'\")\n",
        "\n",
        "# Education:\n",
        "plt.subplot(1,4,2)\n",
        "sb.boxplot(df_multiCategorical['Education'],\n",
        "           showmeans = True,\n",
        "           meanprops={\"marker\":\"o\",\n",
        "                      \"markerfacecolor\":\"white\",\n",
        "                       \"markeredgecolor\":\"black\",\n",
        "                      \"markersize\":\"5\"}\n",
        "                      )\n",
        "\n",
        "plt.grid(color = \"grey\", linewidth = \"0.3\", linestyle = \"-\")\n",
        "plt.title(\"Distribution of feature 'Education'\")\n",
        "\n",
        "# Physical Health:\n",
        "plt.subplot(1,4,3)\n",
        "sb.boxplot(df_numerical['PhysHlth'],\n",
        "           showmeans = True,\n",
        "           meanprops={\"marker\":\"o\",\n",
        "                      \"markerfacecolor\":\"white\",\n",
        "                       \"markeredgecolor\":\"black\",\n",
        "                      \"markersize\":\"5\"}\n",
        "                      )\n",
        "\n",
        "plt.grid(color = \"grey\", linewidth = \"0.3\", linestyle = \"-\")\n",
        "plt.title(\"Distribution of feature 'Mental Health'\")\n",
        "\n",
        "# Age\n",
        "plt.subplot(1,4,4)\n",
        "bplot = sb.barplot(data=df,\n",
        "            x=\"Age\",\n",
        "            y=\"Diabetes_012\",\n",
        "            hue=\"Sex\"\n",
        "            )\n",
        "plt.title(\"Distribution of Diabetes by Age and Sex in colour\")\n",
        "plt.xlabel(\"'Diabetes_012' value\")\n",
        "plt.grid(color = \"grey\", linewidth = \"0.3\", linestyle = \"-\")\n",
        "# add legend and set position to upper right\n",
        "plt.legend(title=\"Sex\", loc='upper right');"
      ],
      "metadata": {
        "colab": {
          "base_uri": "https://localhost:8080/",
          "height": 432
        },
        "id": "3J7rvAZCM9Fz",
        "outputId": "d6c5305a-a992-49d7-eafb-f362df8dbc17"
      },
      "id": "3J7rvAZCM9Fz",
      "execution_count": 28,
      "outputs": [
        {
          "output_type": "display_data",
          "data": {
            "text/plain": [
              "<Figure size 2000x500 with 4 Axes>"
            ],
            "image/png": "[encoded data removed]"
          },
          "metadata": {}
        }
      ]
    },
    {
      "cell_type": "code",
      "source": [],
      "metadata": {
        "id": "Fz11RtEaeQlI",
        "outputId": "5fba5d9a-fd70-4f9c-8126-4af21dc714f0",
        "colab": {
          "base_uri": "https://localhost:8080/",
          "height": 469
        }
      },
      "id": "Fz11RtEaeQlI",
      "execution_count": 26,
      "outputs": [
        {
          "output_type": "execute_result",
          "data": {
            "text/plain": [
              "Text(0.5, 1.0, \"Distribution of feature 'Education'\")"
            ]
          },
          "metadata": {},
          "execution_count": 26
        },
        {
          "output_type": "display_data",
          "data": {
            "text/plain": [
              "<Figure size 640x480 with 1 Axes>"
            ],
            "image/png": "[encoded data removed]"
          },
          "metadata": {}
        }
      ]
    },
    {
      "cell_type": "markdown",
      "source": [
        "## Data reduction"
      ],
      "metadata": {
        "id": "op3tO1z1St-X"
      },
      "id": "op3tO1z1St-X"
    },
    {
      "cell_type": "markdown",
      "source": [
        "### Removing duplicates in rows:"
      ],
      "metadata": {
        "id": "Q7wMxKx5SxPo"
      },
      "id": "Q7wMxKx5SxPo"
    },
    {
      "cell_type": "code",
      "source": [
        "orignialRows_df = df.copy()\n",
        "df = df.drop_duplicates()\n",
        "df.describe()\n"
      ],
      "metadata": {
        "id": "hMufjMpHStE_"
      },
      "id": "hMufjMpHStE_",
      "execution_count": null,
      "outputs": []
    },
    {
      "cell_type": "code",
      "source": [
        "orignialRows_df.describe()"
      ],
      "metadata": {
        "id": "8gY1Xh-pUDy9"
      },
      "id": "8gY1Xh-pUDy9",
      "execution_count": null,
      "outputs": []
    },
    {
      "cell_type": "code",
      "execution_count": null,
      "metadata": {
        "execution": {
          "iopub.execute_input": "2023-11-15T16:43:40.913165Z",
          "iopub.status.busy": "2023-11-15T16:43:40.912690Z",
          "iopub.status.idle": "2023-11-15T16:43:40.926766Z",
          "shell.execute_reply": "2023-11-15T16:43:40.925477Z"
        },
        "papermill": {
          "duration": 0.031151,
          "end_time": "2023-11-15T16:43:40.929388",
          "exception": false,
          "start_time": "2023-11-15T16:43:40.898237",
          "status": "completed"
        },
        "tags": [],
        "id": "qpPhYtDLW5yx"
      },
      "outputs": [],
      "source": [
        "num_of_outliers = df_numerical['BMI'][df_numerical['BMI']>40].count()\n",
        "total_data = df.shape[0]\n",
        "percentage_of_outliers = (num_of_outliers/total_data) * 100\n",
        "print(round(percentage_of_outliers, 2),\"% of the total data are outliers regarding the feature 'BMI'.\")"
      ],
      "id": "qpPhYtDLW5yx"
    },
    {
      "cell_type": "code",
      "source": [
        "# plt.figure(figsize = (5,7))\n",
        "# sb.boxplot(df_numerical['BMI'],\n",
        "#            showmeans = True,\n",
        "#            meanprops={\"marker\":\"o\",\n",
        "#                       \"markerfacecolor\":\"white\",\n",
        "#                        \"markeredgecolor\":\"black\",\n",
        "#                       \"markersize\":\"5\"}\n",
        "#                       )\n",
        "\n",
        "# plt.grid(color = \"grey\", linewidth = \"0.3\", linestyle = \"-\")\n",
        "# plt.title(\"Distribution of feature 'BMI'\")"
      ],
      "metadata": {
        "id": "3YfySalpW5yx"
      },
      "execution_count": null,
      "outputs": [],
      "id": "3YfySalpW5yx"
    },
    {
      "cell_type": "markdown",
      "source": [
        "### Removing uncorrelated features:  "
      ],
      "metadata": {
        "id": "F6h61fVIgiqY"
      },
      "id": "F6h61fVIgiqY"
    },
    {
      "cell_type": "code",
      "source": [
        "def chooseNoCorrFeatures(corr_treshold, *dataframes):\n",
        "    \"\"\"\n",
        "    Returns a list of features from the datframe,\n",
        "    that correlate with the rest with values below\n",
        "    the treshold.\n",
        "    Parameters:\n",
        "    > *dataframe: various Dataframes to apply the function\n",
        "    > corr_treshold: float of maximum correlation\n",
        "    \"\"\"\n",
        "    list_of_feat = []\n",
        "    for dataframe in dataframes:\n",
        "        # Ensure that the input is a DataFrame\n",
        "        if not isinstance(dataframe, pd.DataFrame):\n",
        "            raise ValueError(\"Input must be a pandas DataFrame\")\n",
        "\n",
        "        # Transformations to the correlation matrix:\n",
        "        corr_values = dataframe.corr().abs()\n",
        "        # Mask the diagonal elements\n",
        "        np.fill_diagonal(corr_values.values, 0)\n",
        "\n",
        "        # Choosing features with under a correlation treshold:\n",
        "        features_noCorr = (corr_values <= corr_treshold).all(axis=1)\n",
        "        arrayFeat = features_noCorr.index[features_noCorr]\n",
        "        list_of_feat.extend(arrayFeat)\n",
        "\n",
        "    return list_of_feat\n"
      ],
      "metadata": {
        "id": "YNTnu2-SkKde"
      },
      "id": "YNTnu2-SkKde",
      "execution_count": null,
      "outputs": []
    },
    {
      "cell_type": "code",
      "source": [
        "#Max correlation value of each feature in the dataframe\n",
        "#df.corr().replace(1,np.nan).describe().iloc[-1,:]"
      ],
      "metadata": {
        "id": "gOU4H44LpJZH"
      },
      "id": "gOU4H44LpJZH",
      "execution_count": null,
      "outputs": []
    },
    {
      "cell_type": "code",
      "source": [
        "plt.figure(figsize=(15, 15))\n",
        "sb.heatmap(df.corr(), annot=True, fmt='.2%', annot_kws={'size': 7})\n",
        "plt.title('Heatmap of percentage of correlation between features in the Whole dataset', fontsize=14);"
      ],
      "metadata": {
        "id": "AMO-eCDZlj0P"
      },
      "id": "AMO-eCDZlj0P",
      "execution_count": null,
      "outputs": []
    },
    {
      "cell_type": "markdown",
      "source": [
        "Function *chooseNoCorrFeatures* selects the features where correlation value with the rest features is under a certain treshold.\n",
        "Applying it, we can exclude features that have litte relation with the rest of the of features."
      ],
      "metadata": {
        "id": "l5sOf8WZMaeA"
      },
      "id": "l5sOf8WZMaeA"
    },
    {
      "cell_type": "code",
      "source": [
        "features_no_corr=chooseNoCorrFeatures(0.13, df)\n",
        "features_no_corr"
      ],
      "metadata": {
        "id": "4NhddgxQl83P"
      },
      "id": "4NhddgxQl83P",
      "execution_count": null,
      "outputs": []
    },
    {
      "cell_type": "code",
      "source": [
        "df.drop(labels=features_no_corr, axis=1, inplace=True)\n",
        "df.shape"
      ],
      "metadata": {
        "id": "AqBzhnPvt8kF"
      },
      "id": "AqBzhnPvt8kF",
      "execution_count": null,
      "outputs": []
    },
    {
      "cell_type": "markdown",
      "source": [
        "### Removing irrelevant features:\n",
        "STRATEGY: Low correlated features to \"Diabetes_012\" will be selected. Before deleting them, their relation to other features will be checked, in order to confirm if another variable can account for their effect in Diabetes diagnosis."
      ],
      "metadata": {
        "id": "3ZYEuUacxs0M"
      },
      "id": "3ZYEuUacxs0M"
    },
    {
      "cell_type": "markdown",
      "source": [
        "#### First study:\n",
        "The features that correlate with \"Diabetes_012\" with values \\<0.1 are selected."
      ],
      "metadata": {
        "id": "Kjx8P8jJiRso"
      },
      "id": "Kjx8P8jJiRso"
    },
    {
      "cell_type": "code",
      "source": [
        "# Features with correlation with \"Diabetes_012\" < 0.1\n",
        "no_corr_diabetes = df.columns[(df.corr()[\"Diabetes_012\"]<0.1)]\n",
        "no_corr_diabetes"
      ],
      "metadata": {
        "id": "wMFUrgaRu7pr"
      },
      "id": "wMFUrgaRu7pr",
      "execution_count": null,
      "outputs": []
    },
    {
      "cell_type": "markdown",
      "source": [
        "A closer analysis of this features is conducted, selecting for each of them the attribute with most correlation.<br>"
      ],
      "metadata": {
        "id": "FNbZI_tn1G0H"
      },
      "id": "FNbZI_tn1G0H"
    },
    {
      "cell_type": "code",
      "source": [
        "# Max correlation value of this features in the whole dataframe\n",
        "max_values_ncd = df.corr().replace(1,np.nan).abs().describe().loc['max', no_corr_diabetes]"
      ],
      "metadata": {
        "id": "-4urEbgcylCL"
      },
      "id": "-4urEbgcylCL",
      "execution_count": null,
      "outputs": []
    },
    {
      "cell_type": "code",
      "source": [
        "# Attributes to which they correlate the most.\n",
        "intermediate_correlations=[]\n",
        "for feature in max_values_ncd.index:\n",
        "    name = df.columns[df.corr().abs()[feature]==max_values_ncd[feature]].tolist() # for every index in max_values_ncd,\n",
        "    intermediate_correlations.append(name[0])                                     # find the column name where value\n",
        "                                                                                  # matches the value in max_values_ncd\n",
        "    print(feature,\" is most correlated to \", name[0])"
      ],
      "metadata": {
        "id": "sCU-lLwu2RIB"
      },
      "id": "sCU-lLwu2RIB",
      "execution_count": null,
      "outputs": []
    },
    {
      "cell_type": "markdown",
      "source": [
        "It is observed that many of the attributes related to non-influencing-diabetes features, do have some significant effect in other features very related to diabetes. In other words, indirectly, this apparently low-correlated features have an impact on the Diabetes diagnosis through *intermediate* features. They are features that may connect the effect of the low-correlated-variables to 'Diabetes_012'"
      ],
      "metadata": {
        "id": "P9_7rBjVFfBr"
      },
      "id": "P9_7rBjVFfBr"
    },
    {
      "cell_type": "code",
      "source": [
        "intermediate_corr = list(set(intermediate_correlations))\n",
        "print(\"List of 'intermediate' features in the effect of low-correlated-features to 'Diabetes_012':\\n\", intermediate_corr)"
      ],
      "metadata": {
        "id": "JCr0-PzoFOI7"
      },
      "id": "JCr0-PzoFOI7",
      "execution_count": null,
      "outputs": []
    },
    {
      "cell_type": "code",
      "source": [
        "# HEATMAP THAT SHOWS THE CORRELATION OF THE INTERMEDIATE FEATURES TO 'Diabetes_012'\n",
        "intermediate_corr.append(\"Diabetes_012\")\n",
        "plt.figure(figsize=(7, 7))\n",
        "sb.heatmap(df[intermediate_corr].corr(), annot=True, fmt='.2%', annot_kws={'size': 7})\n",
        "plt.title('Heatmap of percentage of correlation between \"intermediate\" features and \"Diabetes_012\"', fontsize=14);"
      ],
      "metadata": {
        "id": "v7csCftjHhRR"
      },
      "id": "v7csCftjHhRR",
      "execution_count": null,
      "outputs": []
    },
    {
      "cell_type": "markdown",
      "source": [
        "Studying this heatmap of the \"intermediate\" features, it is clear that the feature **\"GenHlth\" accounts for the most meaningful impact on the diagnosis for Diabetes**, with a correlation of 28.49%. <br>\n",
        "But also, it can be seen that **\"GenHlth\" correlates with most of the intermediate features**: \"PhysHlth\", \"Income\", \"Education\", \"NoDocbcCost\"...\n",
        "\n",
        "Below, the correlation of the top 5 influencing features in Diabetes (excluding 'GenHlth'), and their correlation to 'GenHlth'. This shows to what extent factors for Diabetes are grouped by variable 'GenHlth'"
      ],
      "metadata": {
        "id": "cOyTHmZxJBR5"
      },
      "id": "cOyTHmZxJBR5"
    },
    {
      "cell_type": "code",
      "source": [
        "# Top 5 diabetes-correlating features:\n",
        "# Because \"GenHlth\" is the top feature correlated with 'Diabetes_012', first\n",
        "# top 6 features are extracted. Then 'GenHlth' is removed.\n",
        "top5_features_cd_series = df.corr()['Diabetes_012'].replace(1,np.nan).abs().sort_values(ascending=False).head(6)\n",
        "top5_features_cd = (top5_features_cd_series.index).tolist()\n",
        "#(top5_features_cd).remove('GenHlth')\n",
        "\n",
        "# Correlation of Top 5 diabetes-correlating features with \"GenHlth\"\n",
        "max_values_cgh = df[top5_features_cd].corr()['GenHlth'].replace(1,np.nan).abs().sort_values(ascending=False).head(5)\n",
        "print(\"List of the correlation between the top 5 diabetes-correlating features and 'GenHlth':\\n \", max_values_cgh )"
      ],
      "metadata": {
        "id": "T075lLh4lq8g"
      },
      "id": "T075lLh4lq8g",
      "execution_count": null,
      "outputs": []
    },
    {
      "cell_type": "markdown",
      "source": [
        "Therefore, **\"GenHlth\"** groups the effect of a high number of other features, masking their individual effect on \"Diabetes_012\". Additionally, the feature is too general, and collects a subjective assessment. Because of this, it is concluded that it will be deleted."
      ],
      "metadata": {
        "id": "jaB3uk9oMRZl"
      },
      "id": "jaB3uk9oMRZl"
    },
    {
      "cell_type": "code",
      "source": [
        "# # HEATMAP THAT SHOWS THE CORRELATION OF THE 'INTERMEDIATE FEATURES' AND \"GenHlth\"\n",
        "# no_corr_diabetes= (no_corr_diabetes).tolist()\n",
        "# no_corr_diabetes.append(\"GenHlth\")\n",
        "# plt.figure(figsize=(7, 7))\n",
        "# sb.heatmap(df[no_corr_diabetes].corr(), annot=True, fmt='.2%', annot_kws={'size': 7})\n",
        "# plt.title('Correlation between least-related to Diabetes features and \"GenHlth\"', fontsize=14);"
      ],
      "metadata": {
        "id": "VNysxtP7W7AC"
      },
      "id": "VNysxtP7W7AC",
      "execution_count": null,
      "outputs": []
    },
    {
      "cell_type": "code",
      "source": [
        "df.drop(\"GenHlth\", axis=1, inplace=True)\n",
        "df.shape"
      ],
      "metadata": {
        "id": "lsmGsHvGuO2V"
      },
      "id": "lsmGsHvGuO2V",
      "execution_count": null,
      "outputs": []
    },
    {
      "cell_type": "markdown",
      "source": [
        "Now that \"GenHlth\" has been removed, the redundancy of variables can be better studied."
      ],
      "metadata": {
        "id": "QI7P9Lhr4LIE"
      },
      "id": "QI7P9Lhr4LIE"
    },
    {
      "cell_type": "markdown",
      "source": [
        "#### Second study:\n",
        "Once the screen effect of \"GenHlth\" has been removed, variables with no correlation with \"Diabetes_012\" will be analised again, following the same strategy:\n",
        "- Check whether they have a significant correlation wiht another features.\n",
        "- Determine if this relation to other variables makes them redundant."
      ],
      "metadata": {
        "id": "UMTYZdAKium9"
      },
      "id": "UMTYZdAKium9"
    },
    {
      "cell_type": "code",
      "source": [
        "# POORLY CORRELATED FEATURES: Features with correlation with \"Diabetes_012\" < 0.1\n",
        "no_corr_diabetes = df.columns[(df.corr()[\"Diabetes_012\"]<0.1)]\n",
        "\n",
        "# Max correlation value of this features in the whole dataframe\n",
        "max_values_ncd = df.corr().replace(1,np.nan).abs().describe().loc['max', no_corr_diabetes]\n",
        "\n",
        "# INTERMEDIATE FEATURES: Attributes to which they correlate the most.\n",
        "intermediate_correlations=[]\n",
        "for feature in max_values_ncd.index:\n",
        "    name = df.columns[df.corr().abs()[feature]==max_values_ncd[feature]].tolist() # for every index in max_values_ncd,\n",
        "    intermediate_correlations.append(name[0])                                     # find the column name where value\n",
        "                                                                                  # matches the value in max_values_ncd\n",
        "    print(feature,\" is most correlated to \", name[0])\n",
        "\n"
      ],
      "metadata": {
        "id": "oYZfKr2Dfyv6"
      },
      "id": "oYZfKr2Dfyv6",
      "execution_count": null,
      "outputs": []
    },
    {
      "cell_type": "code",
      "source": [
        "# List of the most correlated variables with low-diabetes-correlation features\n",
        "intermediate_corr = list(set(intermediate_correlations))\n",
        "\n",
        "# HEATMAP THAT SHOWS THE CORRELATION OF THE INTERMEDIATE FEATURES TO 'Diabetes_012'\n",
        "intermediate_corr.append(\"Diabetes_012\")\n",
        "plt.figure(figsize=(7, 7))\n",
        "sb.heatmap(df[intermediate_corr].corr(), annot=True, fmt='.2%', annot_kws={'size': 7})\n",
        "plt.title('Heatmap of percentage of correlation between \"intermediate\" features and \"Diabetes_012\"', fontsize=14);"
      ],
      "metadata": {
        "id": "VVenBVlS0R-N"
      },
      "id": "VVenBVlS0R-N",
      "execution_count": null,
      "outputs": []
    },
    {
      "cell_type": "code",
      "source": [
        "# # HEATMAP THAT SHOWS THE CORRELATION OF THE INTERMEDIATE FEATURES TO 'Diabetes_012'\n",
        "# no_corr_diabetes= (no_corr_diabetes).tolist()\n",
        "# no_corr_diabetes.append(\"GenHlth\")\n",
        "# plt.figure(figsize=(7, 7))\n",
        "# sb.heatmap(df[no_corr_diabetes].corr(), annot=True, fmt='.2%', annot_kws={'size': 7})\n",
        "# plt.title('Correlation between least-related to Diabetes features and \"GenHlth\"', fontsize=14);"
      ],
      "metadata": {
        "id": "joGu-uXMd-PJ"
      },
      "id": "joGu-uXMd-PJ",
      "execution_count": null,
      "outputs": []
    },
    {
      "cell_type": "markdown",
      "source": [
        "Looks like PhysHlth is a variable that also groups many others...\n",
        "I am going to stop \"wasting\" time reducint number of features manually..."
      ],
      "metadata": {
        "id": "4AyHvK5rSeM3"
      },
      "id": "4AyHvK5rSeM3"
    },
    {
      "cell_type": "markdown",
      "source": [
        "## Transformation of data"
      ],
      "metadata": {
        "id": "R-zfLJQcWwmC"
      },
      "id": "R-zfLJQcWwmC"
    },
    {
      "cell_type": "markdown",
      "source": [
        "### Resampling to deal with imbalance.\n",
        "For an imbalanced class dataset F1 score is a more appropriate metric. After checking it, i will oversample...\n",
        "https://www.analyticsvidhya.com/blog/2021/06/5-techniques-to-handle-imbalanced-data-for-a-classification-problem/#h-what-is-imbalanced-data-and-how-to-handle-it"
      ],
      "metadata": {
        "id": "_VKwMFaqXf_l"
      },
      "id": "_VKwMFaqXf_l"
    },
    {
      "cell_type": "code",
      "source": [
        "n_diabetes_0 = (df['Diabetes_012']==0).sum()\n",
        "n_diabetes_1 = (df['Diabetes_012']==1).sum()\n",
        "n_diabetes_2 = (df['Diabetes_012']==2).sum()\n",
        "print(\"Number of data with NO diabetes: \", n_diabetes_0)\n",
        "print(\"Number of data with PRE diabetes: \", n_diabetes_1)\n",
        "print(\"Number of data with diabetes: \", n_diabetes_2)"
      ],
      "metadata": {
        "id": "Akqb8ruCT0Vd"
      },
      "id": "Akqb8ruCT0Vd",
      "execution_count": null,
      "outputs": []
    },
    {
      "cell_type": "code",
      "source": [
        "#create different dataframes of majority and minority classes\n",
        "df_diab0 = df[(df['Diabetes_012']==0)]\n",
        "df_diab1 = df[(df['Diabetes_012']==1)]\n",
        "df_diab2 = df[(df['Diabetes_012']==2)]"
      ],
      "metadata": {
        "id": "APG0ZAI0aSRc"
      },
      "id": "APG0ZAI0aSRc",
      "execution_count": null,
      "outputs": []
    },
    {
      "cell_type": "markdown",
      "source": [
        "Undersampling to match the number of diabetic and non diabetic data to the number of prediabetic data:"
      ],
      "metadata": {
        "id": "6m89JTCAW_DR"
      },
      "id": "6m89JTCAW_DR"
    },
    {
      "cell_type": "code",
      "source": [
        "# Undersample NON diabetes class\n",
        "df_diab0_undersampled = resample(df_diab0,\n",
        "                                 replace=False,            # sample with replacement\n",
        "                                 n_samples= n_diabetes_1,  # to match majority class\n",
        "                                 random_state=42)          # reproducible results\n",
        "\n",
        "# Undersample Diabetes class\n",
        "df_diab2_undersampled = resample(df_diab2,\n",
        "                                 replace=False,            # sample with replacement\n",
        "                                 n_samples= n_diabetes_1,  # to match majority class\n",
        "                                 random_state=42)          # reproducible results\n",
        "\n",
        "# Combine majority class with upsampled minority class\n",
        "df_diab1sampled = pd.concat([df_diab0_undersampled, df_diab1, df_diab2_undersampled])"
      ],
      "metadata": {
        "id": "dWimv5woXNU1"
      },
      "id": "dWimv5woXNU1",
      "execution_count": null,
      "outputs": []
    },
    {
      "cell_type": "code",
      "source": [
        "df_diab1sampled.shape"
      ],
      "metadata": {
        "id": "3TgtboMCYxrF"
      },
      "id": "3TgtboMCYxrF",
      "execution_count": null,
      "outputs": []
    },
    {
      "cell_type": "markdown",
      "source": [
        "Matching the number of NON diabetic and prediabetic data to the number of diabetic data:\n",
        "(This involves undersampling of Non diabetic class, and upsampling of prediabetic class)"
      ],
      "metadata": {
        "id": "vUylVomcZNrf"
      },
      "id": "vUylVomcZNrf"
    },
    {
      "cell_type": "code",
      "source": [
        "# Undersample NON diabetes class\n",
        "df_diab0_undersampled = resample(df_diab0,\n",
        "                                 replace=False,     # sample with replacement\n",
        "                                 n_samples= n_diabetes_2,  # to match majority class\n",
        "                                 random_state=42)   # reproducible results\n",
        "\n",
        "# # Undersample Pre-diebetes class\n",
        "# df_diab1_upsampled = resample(df_diab1,\n",
        "#                               replace=True,             # sample with replacement\n",
        "#                               n_samples= n_diabetes_2,  # to match majority class\n",
        "#                               random_state=42)          # reproducible results\n",
        "\n",
        "# Oversample class Pre-diabetes\n",
        "smote = SMOTE(sampling_strategy={1: n_diabetes_2})\n",
        "df_with_diab1_oversampled, _ = smote.fit_resample(df, df['Diabetes_012'])\n",
        "df_diab1_oversampled = df_with_diab1_oversampled[(df_with_diab1_oversampled['Diabetes_012']==1)]\n",
        "\n",
        "# Combine majority class with upsampled minority class\n",
        "df_diab2sampled = pd.concat([df_diab0_undersampled, df_diab1_oversampled, df_diab2])"
      ],
      "metadata": {
        "id": "9ezYL6yZaV1P"
      },
      "id": "9ezYL6yZaV1P",
      "execution_count": null,
      "outputs": []
    },
    {
      "cell_type": "markdown",
      "source": [
        "# Modelling"
      ],
      "metadata": {
        "id": "znpSF48MSPaX"
      },
      "id": "znpSF48MSPaX"
    },
    {
      "cell_type": "markdown",
      "source": [
        "## For number of data as the smallest class: prediabetes\n",
        "Using df_diab1sampled, where all classes of 'Diabetes_012' have the size of class prediabetes (1)."
      ],
      "metadata": {
        "id": "ee_wC0hXsHZc"
      },
      "id": "ee_wC0hXsHZc"
    },
    {
      "cell_type": "code",
      "source": [
        "# Divide dataset in data and labels.\n",
        "X = df_diab1sampled.drop('Diabetes_012', axis=1, inplace=False)\n",
        "y = df_diab1sampled['Diabetes_012']"
      ],
      "metadata": {
        "id": "ZSJoJFPbieh5"
      },
      "id": "ZSJoJFPbieh5",
      "execution_count": null,
      "outputs": []
    },
    {
      "cell_type": "markdown",
      "source": [
        "### Using PCA for the dimension reduction:"
      ],
      "metadata": {
        "id": "kQiySWCX16z4"
      },
      "id": "kQiySWCX16z4"
    },
    {
      "cell_type": "code",
      "source": [
        "# Use components such that 95% of varience is retained.\n",
        "pca = PCA(0.95)\n",
        "X_pca = pca.fit_transform(X)\n",
        "X_pca.shape"
      ],
      "metadata": {
        "id": "HNZxEsqTvttO"
      },
      "id": "HNZxEsqTvttO",
      "execution_count": null,
      "outputs": []
    },
    {
      "cell_type": "code",
      "source": [
        "# Create training and test sets.\n",
        "X_train, X_test, y_train, y_test = train_test_split(X_pca, y, test_size=0.2, random_state=30)"
      ],
      "metadata": {
        "id": "eXrwFHHo_ryl"
      },
      "id": "eXrwFHHo_ryl",
      "execution_count": null,
      "outputs": []
    },
    {
      "cell_type": "code",
      "source": [
        "# Initialize the classifier\n",
        "nb_classifier = GaussianNB()\n",
        "dt_classifier = DecisionTreeClassifier(random_state=42)\n",
        "\n",
        "# Fit the model on the training data\n",
        "nb_classifier.fit(X_train, y_train)\n",
        "dt_classifier.fit(X_train, y_train)"
      ],
      "metadata": {
        "id": "pDxYcpD7kYTD"
      },
      "id": "pDxYcpD7kYTD",
      "execution_count": null,
      "outputs": []
    },
    {
      "cell_type": "code",
      "source": [
        "# Predictions on the test set\n",
        "y_predNB = nb_classifier.predict(X_test)\n",
        "y_predDT = dt_classifier.predict(X_test)\n",
        "\n",
        "# Evaluate accuracy\n",
        "# Print classification report and confusion matrix\n",
        "# Calculate and print the F1 score\n",
        "print(\"GAUSSIAN NAIVE BAYES CLASSIFIER:\")\n",
        "accuracyNB = accuracy_score(y_test, y_predNB)\n",
        "print(f\"Accuracy for Gaussian Naive-Bayes Classifier: {accuracyNB}\")\n",
        "print(\"Guassian Naive-Bayes Classifier: \")\n",
        "print(classification_report(y_test, y_predNB))\n",
        "f1NB = f1_score(y_test, y_predNB, average='weighted')\n",
        "print(f\"F1 Score for Gaussian Naive-Bayes Classifier: {f1NB}\")\n",
        "\n",
        "print(\"\\nDECISION TREE CLASSIFIER:\")\n",
        "accuracyDT = accuracy_score(y_test, y_predDT)\n",
        "print(f\"Accuracy for Decision Tree Classifier: {accuracyDT}\")\n",
        "print(\"Decision Tree Classifier: \")\n",
        "print(classification_report(y_test, y_predDT))\n",
        "f1DT = f1_score(y_test, y_predDT, average='weighted')\n",
        "print(f\"F1 Score for Decision Tree Classifier: {f1DT}\")\n",
        "#print(confusion_matrix(y_test, y_pred))"
      ],
      "metadata": {
        "id": "ToqBmnemtaoK"
      },
      "id": "ToqBmnemtaoK",
      "execution_count": null,
      "outputs": []
    },
    {
      "cell_type": "markdown",
      "source": [
        "#### Adding cross validation:"
      ],
      "metadata": {
        "id": "ltujciSa6W-J"
      },
      "id": "ltujciSa6W-J"
    },
    {
      "cell_type": "code",
      "source": [
        "# Number of folds for cross-validation\n",
        "num_folds = 7\n",
        "# Specific cross-validation strategy (StratifiedKFold: similar to K-fold but mantaining proportions)\n",
        "cv_strategy_gaussianNB = StratifiedKFold(n_splits=num_folds, shuffle=True, random_state=42)\n",
        "cv_strategy_decisionTree = StratifiedKFold(n_splits=num_folds, shuffle=True, random_state=42)\n",
        "# Perform cross-validation\n",
        "cv_scores_gaussianNB = cross_val_score(nb_classifier, X_pca, y, cv=cv_strategy_gaussianNB, scoring='f1_weighted')\n",
        "cv_scores_decisionTree = cross_val_score(dt_classifier, X_pca, y, cv=cv_strategy_decisionTree, scoring='f1_weighted')\n",
        "\n",
        "# Print the cross-validation scores\n",
        "# Print the mean and standard deviation of the cross-validation scores\n",
        "print(\"GAUSSIAN NAIVE BAYES CLASSIFIER:\")\n",
        "print(\"Cross-Validation Scores: \", cv_scores_gaussianNB)\n",
        "print(\"Mean F1 Score for Gaussian Naive Bayes Classifier:\", cv_scores_gaussianNB.mean())\n",
        "\n",
        "print(\"DECISION TREE CLASSIFIER:\")\n",
        "print(\"Cross-Validation Scores: \", cv_scores_gaussianNB)\n",
        "print(\"Mean F1 Score for Decision Tree Classifier:\", cv_scores_decisionTree.mean())"
      ],
      "metadata": {
        "id": "m4HHwzIqBD_O"
      },
      "id": "m4HHwzIqBD_O",
      "execution_count": null,
      "outputs": []
    },
    {
      "cell_type": "markdown",
      "source": [
        "### Without using PCA for the dimension reduction:"
      ],
      "metadata": {
        "id": "Re1hKKd3v1IO"
      },
      "id": "Re1hKKd3v1IO"
    },
    {
      "cell_type": "code",
      "source": [
        "# Create training and test sets, without applying the PCA reduction.\n",
        "X_train, X_test, y_train, y_test = train_test_split(X, y, test_size=0.2, random_state=30)"
      ],
      "metadata": {
        "id": "vb509XxcCfEp"
      },
      "id": "vb509XxcCfEp",
      "execution_count": null,
      "outputs": []
    },
    {
      "cell_type": "code",
      "source": [
        "# Initialize the classifier\n",
        "nb_classifier = GaussianNB()\n",
        "dt_classifier = DecisionTreeClassifier(random_state=42)\n",
        "\n",
        "# Fit the model on the training data\n",
        "nb_classifier.fit(X_train, y_train)\n",
        "dt_classifier.fit(X_train, y_train)"
      ],
      "metadata": {
        "id": "Dq7kfkthwN8G"
      },
      "execution_count": null,
      "outputs": [],
      "id": "Dq7kfkthwN8G"
    },
    {
      "cell_type": "code",
      "source": [
        "# Predictions on the test set\n",
        "y_predNB = nb_classifier.predict(X_test)\n",
        "y_predDT = dt_classifier.predict(X_test)\n",
        "\n",
        "# Evaluate accuracy\n",
        "# Print classification report and confusion matrix\n",
        "# Calculate and print the F1 score\n",
        "print(\"GAUSSIAN NAIVE BAYES CLASSIFIER:\")\n",
        "accuracyNB = accuracy_score(y_test, y_predNB)\n",
        "print(f\"Accuracy for Gaussian Naive-Bayes Classifier: {accuracyNB}\")\n",
        "print(\"Guassian Naive-Bayes Classifier: \")\n",
        "print(classification_report(y_test, y_predNB))\n",
        "f1NB = f1_score(y_test, y_predNB, average='weighted')\n",
        "print(f\"F1 Score for Gaussian Naive-Bayes Classifier: {f1NB}\")\n",
        "\n",
        "print(\"\\nDECISION TREE CLASSIFIER:\")\n",
        "accuracyDT = accuracy_score(y_test, y_predDT)\n",
        "print(f\"Accuracy for Decision Tree Classifier: {accuracyDT}\")\n",
        "print(\"Decision Tree Classifier: \")\n",
        "print(classification_report(y_test, y_predDT))\n",
        "f1DT = f1_score(y_test, y_predDT, average='weighted')\n",
        "print(f\"F1 Score for Decision Tree Classifier: {f1DT}\")\n",
        "#print(confusion_matrix(y_test, y_pred))"
      ],
      "metadata": {
        "id": "09hQg3SwwN8T"
      },
      "execution_count": null,
      "outputs": [],
      "id": "09hQg3SwwN8T"
    },
    {
      "cell_type": "markdown",
      "source": [
        "#### Adding cross validation:"
      ],
      "metadata": {
        "id": "i7Fg5ze465Sa"
      },
      "id": "i7Fg5ze465Sa"
    },
    {
      "cell_type": "code",
      "source": [
        "# Number of folds for cross-validation\n",
        "num_folds = 7\n",
        "# Specific cross-validation strategy (StratifiedKFold: similar to K-fold but mantaining proportions)\n",
        "cv_strategy_gaussianNB = StratifiedKFold(n_splits=num_folds, shuffle=True, random_state=42)\n",
        "cv_strategy_decisionTree = StratifiedKFold(n_splits=num_folds, shuffle=True, random_state=42)\n",
        "# Perform cross-validation\n",
        "cv_scores_gaussianNB = cross_val_score(nb_classifier, X, y, cv=cv_strategy_gaussianNB, scoring='f1_weighted')\n",
        "cv_scores_decisionTree = cross_val_score(dt_classifier, X, y, cv=cv_strategy_decisionTree, scoring='f1_weighted')\n",
        "\n",
        "# Print the cross-validation scores\n",
        "# Print the mean and standard deviation of the cross-validation scores\n",
        "print(\"GAUSSIAN NAIVE BAYES CLASSIFIER:\")\n",
        "print(\"Cross-Validation Scores: \", cv_scores_gaussianNB)\n",
        "print(\"Mean F1 Score for Gaussian Naive Bayes Classifier:\", cv_scores_gaussianNB.mean())\n",
        "\n",
        "print(\"DECISION TREE CLASSIFIER:\")\n",
        "print(\"Cross-Validation Scores: \", cv_scores_gaussianNB)\n",
        "print(\"Mean F1 Score for Decision Tree Classifier:\", cv_scores_decisionTree.mean())"
      ],
      "metadata": {
        "id": "kgST-81D65Sl"
      },
      "execution_count": null,
      "outputs": [],
      "id": "kgST-81D65Sl"
    },
    {
      "cell_type": "markdown",
      "source": [
        "## For number of data as the middle class: diabetes\n",
        "Using df_diab1sampled, where all classes of 'Diabetes_012' have the size of class diabetes (2)."
      ],
      "metadata": {
        "id": "Owp8CafMwqf4"
      },
      "id": "Owp8CafMwqf4"
    },
    {
      "cell_type": "code",
      "source": [
        "# Divide dataset in data and labels.\n",
        "X = df_diab2sampled.drop('Diabetes_012', axis=1, inplace=False)\n",
        "y = df_diab2sampled['Diabetes_012']"
      ],
      "metadata": {
        "id": "67ioUvKUwqf5"
      },
      "execution_count": null,
      "outputs": [],
      "id": "67ioUvKUwqf5"
    },
    {
      "cell_type": "markdown",
      "source": [
        "### Using PCA for the dimension reduction:"
      ],
      "metadata": {
        "id": "a0GM2E2gwqf5"
      },
      "id": "a0GM2E2gwqf5"
    },
    {
      "cell_type": "code",
      "source": [
        "# Use components such that 95% of varience is retained.\n",
        "pca = PCA(0.95)\n",
        "X_pca = pca.fit_transform(X)\n",
        "X_pca.shape"
      ],
      "metadata": {
        "id": "EAtXCDKIwqf6"
      },
      "execution_count": null,
      "outputs": [],
      "id": "EAtXCDKIwqf6"
    },
    {
      "cell_type": "code",
      "source": [
        "# Create training and test sets.\n",
        "X_train, X_test, y_train, y_test = train_test_split(X_pca, y, test_size=0.2, random_state=30)"
      ],
      "metadata": {
        "id": "M6DVVTSSEZSN"
      },
      "execution_count": null,
      "outputs": [],
      "id": "M6DVVTSSEZSN"
    },
    {
      "cell_type": "code",
      "source": [
        "# Initialize the classifier\n",
        "nb_classifier = GaussianNB()\n",
        "dt_classifier = DecisionTreeClassifier(random_state=42)\n",
        "\n",
        "# Fit the model on the training data\n",
        "nb_classifier.fit(X_train, y_train)\n",
        "dt_classifier.fit(X_train, y_train)"
      ],
      "metadata": {
        "id": "xh_nWoe3EZSZ"
      },
      "execution_count": null,
      "outputs": [],
      "id": "xh_nWoe3EZSZ"
    },
    {
      "cell_type": "code",
      "source": [
        "# Predictions on the test set\n",
        "y_predNB = nb_classifier.predict(X_test)\n",
        "y_predDT = dt_classifier.predict(X_test)\n",
        "\n",
        "# Evaluate accuracy\n",
        "# Print classification report and confusion matrix\n",
        "# Calculate and print the F1 score\n",
        "print(\"GAUSSIAN NAIVE BAYES CLASSIFIER:\")\n",
        "accuracyNB = accuracy_score(y_test, y_predNB)\n",
        "print(f\"Accuracy for Gaussian Naive-Bayes Classifier: {accuracyNB}\")\n",
        "print(\"Guassian Naive-Bayes Classifier: \")\n",
        "print(classification_report(y_test, y_predNB))\n",
        "f1NB = f1_score(y_test, y_predNB, average='weighted')\n",
        "print(f\"F1 Score for Gaussian Naive-Bayes Classifier: {f1NB}\")\n",
        "\n",
        "print(\"\\nDECISION TREE CLASSIFIER:\")\n",
        "accuracyDT = accuracy_score(y_test, y_predDT)\n",
        "print(f\"Accuracy for Decision Tree Classifier: {accuracyDT}\")\n",
        "print(\"Decision Tree Classifier: \")\n",
        "print(classification_report(y_test, y_predDT))\n",
        "f1DT = f1_score(y_test, y_predDT, average='weighted')\n",
        "print(f\"F1 Score for Decision Tree Classifier: {f1DT}\")\n",
        "#print(confusion_matrix(y_test, y_pred))"
      ],
      "metadata": {
        "id": "tgBhApQcEZSZ"
      },
      "execution_count": null,
      "outputs": [],
      "id": "tgBhApQcEZSZ"
    },
    {
      "cell_type": "markdown",
      "source": [
        "#### Adding cross validation:"
      ],
      "metadata": {
        "id": "NtLht1GREZSZ"
      },
      "id": "NtLht1GREZSZ"
    },
    {
      "cell_type": "code",
      "source": [
        "# Number of folds for cross-validation\n",
        "num_folds = 7\n",
        "# Specific cross-validation strategy (StratifiedKFold: similar to K-fold but mantaining proportions)\n",
        "cv_strategy_gaussianNB = StratifiedKFold(n_splits=num_folds, shuffle=True, random_state=42)\n",
        "cv_strategy_decisionTree = StratifiedKFold(n_splits=num_folds, shuffle=True, random_state=42)\n",
        "# Perform cross-validation\n",
        "cv_scores_gaussianNB = cross_val_score(nb_classifier, X_pca, y, cv=cv_strategy_gaussianNB, scoring='f1_weighted')\n",
        "cv_scores_decisionTree = cross_val_score(dt_classifier, X_pca, y, cv=cv_strategy_decisionTree, scoring='f1_weighted')\n",
        "\n",
        "# Print the cross-validation scores\n",
        "# Print the mean and standard deviation of the cross-validation scores\n",
        "print(\"GAUSSIAN NAIVE BAYES CLASSIFIER:\")\n",
        "print(\"Cross-Validation Scores: \", cv_scores_gaussianNB)\n",
        "print(\"Mean F1 Score for Gaussian Naive Bayes Classifier:\", cv_scores_gaussianNB.mean())\n",
        "\n",
        "print(\"\\nDECISION TREE CLASSIFIER:\")\n",
        "print(\"Cross-Validation Scores: \", cv_scores_gaussianNB)\n",
        "print(\"Mean F1 Score for Decision Tree Classifier:\", cv_scores_decisionTree.mean())"
      ],
      "metadata": {
        "id": "rPfHPxm4EZSZ"
      },
      "execution_count": null,
      "outputs": [],
      "id": "rPfHPxm4EZSZ"
    },
    {
      "cell_type": "markdown",
      "source": [
        "### Without using PCA for the dimension reduction:"
      ],
      "metadata": {
        "id": "9z_66wG9wqf8"
      },
      "id": "9z_66wG9wqf8"
    },
    {
      "cell_type": "code",
      "source": [
        "# Create training and test sets, without applying the PCA reduction.\n",
        "X_train, X_test, y_train, y_test = train_test_split(X, y, test_size=0.2, random_state=30)"
      ],
      "metadata": {
        "id": "tnska5G6Fez8"
      },
      "execution_count": null,
      "outputs": [],
      "id": "tnska5G6Fez8"
    },
    {
      "cell_type": "code",
      "source": [
        "# Initialize the classifier\n",
        "nb_classifier = GaussianNB()\n",
        "dt_classifier = DecisionTreeClassifier(random_state=42)\n",
        "\n",
        "# Fit the model on the training data\n",
        "nb_classifier.fit(X_train, y_train)\n",
        "dt_classifier.fit(X_train, y_train)"
      ],
      "metadata": {
        "id": "-Sy4fStJFe0I"
      },
      "execution_count": null,
      "outputs": [],
      "id": "-Sy4fStJFe0I"
    },
    {
      "cell_type": "code",
      "source": [
        "# Predictions on the test set\n",
        "y_predNB = nb_classifier.predict(X_test)\n",
        "y_predDT = dt_classifier.predict(X_test)\n",
        "\n",
        "# Evaluate accuracy\n",
        "# Print classification report and confusion matrix\n",
        "# Calculate and print the F1 score\n",
        "print(\"GAUSSIAN NAIVE BAYES CLASSIFIER:\")\n",
        "accuracyNB = accuracy_score(y_test, y_predNB)\n",
        "print(f\"Accuracy for Gaussian Naive-Bayes Classifier: {accuracyNB}\")\n",
        "print(\"Guassian Naive-Bayes Classifier: \")\n",
        "print(classification_report(y_test, y_predNB))\n",
        "f1NB = f1_score(y_test, y_predNB, average='weighted')\n",
        "print(f\"F1 Score for Gaussian Naive-Bayes Classifier: {f1NB}\")\n",
        "\n",
        "print(\"\\nDECISION TREE CLASSIFIER:\")\n",
        "accuracyDT = accuracy_score(y_test, y_predDT)\n",
        "print(f\"Accuracy for Decision Tree Classifier: {accuracyDT}\")\n",
        "print(\"Decision Tree Classifier: \")\n",
        "print(classification_report(y_test, y_predDT))\n",
        "f1DT = f1_score(y_test, y_predDT, average='weighted')\n",
        "print(f\"F1 Score for Decision Tree Classifier: {f1DT}\")\n",
        "#print(confusion_matrix(y_test, y_pred))"
      ],
      "metadata": {
        "id": "qQWwW45-Fe0I"
      },
      "execution_count": null,
      "outputs": [],
      "id": "qQWwW45-Fe0I"
    },
    {
      "cell_type": "markdown",
      "source": [
        "#### Adding cross validation:"
      ],
      "metadata": {
        "id": "VFEfLeCFFe0I"
      },
      "id": "VFEfLeCFFe0I"
    },
    {
      "cell_type": "code",
      "source": [
        "# Number of folds for cross-validation\n",
        "num_folds = 7\n",
        "# Specific cross-validation strategy (StratifiedKFold: similar to K-fold but mantaining proportions)\n",
        "cv_strategy_gaussianNB = StratifiedKFold(n_splits=num_folds, shuffle=True, random_state=42)\n",
        "cv_strategy_decisionTree = StratifiedKFold(n_splits=num_folds, shuffle=True, random_state=42)\n",
        "# Perform cross-validation\n",
        "cv_scores_gaussianNB = cross_val_score(nb_classifier, X, y, cv=cv_strategy_gaussianNB, scoring='f1_weighted')\n",
        "cv_scores_decisionTree = cross_val_score(dt_classifier, X, y, cv=cv_strategy_decisionTree, scoring='f1_weighted')\n",
        "\n",
        "# Print the cross-validation scores\n",
        "# Print the mean and standard deviation of the cross-validation scores\n",
        "print(\"GAUSSIAN NAIVE BAYES CLASSIFIER:\")\n",
        "print(\"Cross-Validation Scores: \", cv_scores_gaussianNB)\n",
        "print(\"Mean F1 Score for Gaussian Naive Bayes Classifier:\", cv_scores_gaussianNB.mean())\n",
        "\n",
        "print(\"DECISION TREE CLASSIFIER:\")\n",
        "print(\"Cross-Validation Scores: \", cv_scores_gaussianNB)\n",
        "print(\"Mean F1 Score for Decision Tree Classifier:\", cv_scores_decisionTree.mean())"
      ],
      "metadata": {
        "id": "x70Sl05jFe0I"
      },
      "execution_count": null,
      "outputs": [],
      "id": "x70Sl05jFe0I"
    }
  ],
  "metadata": {
    "kaggle": {
      "accelerator": "none",
      "dataSources": [
        {
          "datasetId": 1703281,
          "sourceId": 2789260,
          "sourceType": "datasetVersion"
        }
      ],
      "dockerImageVersionId": 30579,
      "isGpuEnabled": false,
      "isInternetEnabled": false,
      "language": "python",
      "sourceType": "notebook"
    },
    "kernelspec": {
      "display_name": "Python 3",
      "language": "python",
      "name": "python3"
    },
    "language_info": {
      "codemirror_mode": {
        "name": "ipython",
        "version": 3
      },
      "file_extension": ".py",
      "mimetype": "text/x-python",
      "name": "python",
      "nbconvert_exporter": "python",
      "pygments_lexer": "ipython3",
      "version": "3.10.12"
    },
    "papermill": {
      "default_parameters": {},
      "duration": 17.075727,
      "end_time": "2023-11-15T16:43:42.068810",
      "environment_variables": {},
      "exception": null,
      "input_path": "__notebook__.ipynb",
      "output_path": "__notebook__.ipynb",
      "parameters": {},
      "start_time": "2023-11-15T16:43:24.993083",
      "version": "2.4.0"
    },
    "colab": {
      "provenance": [],
      "toc_visible": true
    }
  },
  "nbformat": 4,
  "nbformat_minor": 5
}